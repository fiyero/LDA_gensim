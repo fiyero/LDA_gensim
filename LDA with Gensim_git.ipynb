{
 "cells": [
  {
   "cell_type": "markdown",
   "metadata": {},
   "source": [
    "## Load the dataset\n"
   ]
  },
  {
   "cell_type": "code",
   "execution_count": 1,
   "metadata": {},
   "outputs": [
    {
     "data": {
      "text/html": [
       "<div>\n",
       "<style scoped>\n",
       "    .dataframe tbody tr th:only-of-type {\n",
       "        vertical-align: middle;\n",
       "    }\n",
       "\n",
       "    .dataframe tbody tr th {\n",
       "        vertical-align: top;\n",
       "    }\n",
       "\n",
       "    .dataframe thead th {\n",
       "        text-align: right;\n",
       "    }\n",
       "</style>\n",
       "<table border=\"1\" class=\"dataframe\">\n",
       "  <thead>\n",
       "    <tr style=\"text-align: right;\">\n",
       "      <th></th>\n",
       "      <th>publish_date</th>\n",
       "      <th>headline_text</th>\n",
       "    </tr>\n",
       "  </thead>\n",
       "  <tbody>\n",
       "    <tr>\n",
       "      <th>0</th>\n",
       "      <td>20030219</td>\n",
       "      <td>aba decides against community broadcasting lic...</td>\n",
       "    </tr>\n",
       "    <tr>\n",
       "      <th>1</th>\n",
       "      <td>20030219</td>\n",
       "      <td>act fire witnesses must be aware of defamation</td>\n",
       "    </tr>\n",
       "    <tr>\n",
       "      <th>2</th>\n",
       "      <td>20030219</td>\n",
       "      <td>a g calls for infrastructure protection summit</td>\n",
       "    </tr>\n",
       "    <tr>\n",
       "      <th>3</th>\n",
       "      <td>20030219</td>\n",
       "      <td>air nz staff in aust strike for pay rise</td>\n",
       "    </tr>\n",
       "    <tr>\n",
       "      <th>4</th>\n",
       "      <td>20030219</td>\n",
       "      <td>air nz strike to affect australian travellers</td>\n",
       "    </tr>\n",
       "  </tbody>\n",
       "</table>\n",
       "</div>"
      ],
      "text/plain": [
       "   publish_date                                      headline_text\n",
       "0      20030219  aba decides against community broadcasting lic...\n",
       "1      20030219     act fire witnesses must be aware of defamation\n",
       "2      20030219     a g calls for infrastructure protection summit\n",
       "3      20030219           air nz staff in aust strike for pay rise\n",
       "4      20030219      air nz strike to affect australian travellers"
      ]
     },
     "execution_count": 1,
     "metadata": {},
     "output_type": "execute_result"
    }
   ],
   "source": [
    "import pandas as pd\n",
    "data = pd.read_csv('abcnews-date-text.csv', error_bad_lines=False)\n",
    "\n",
    "data.head()"
   ]
  },
  {
   "cell_type": "code",
   "execution_count": 2,
   "metadata": {},
   "outputs": [
    {
     "data": {
      "text/html": [
       "<div>\n",
       "<style scoped>\n",
       "    .dataframe tbody tr th:only-of-type {\n",
       "        vertical-align: middle;\n",
       "    }\n",
       "\n",
       "    .dataframe tbody tr th {\n",
       "        vertical-align: top;\n",
       "    }\n",
       "\n",
       "    .dataframe thead th {\n",
       "        text-align: right;\n",
       "    }\n",
       "</style>\n",
       "<table border=\"1\" class=\"dataframe\">\n",
       "  <thead>\n",
       "    <tr style=\"text-align: right;\">\n",
       "      <th></th>\n",
       "      <th>headline_text</th>\n",
       "    </tr>\n",
       "  </thead>\n",
       "  <tbody>\n",
       "    <tr>\n",
       "      <th>0</th>\n",
       "      <td>aba decides against community broadcasting lic...</td>\n",
       "    </tr>\n",
       "    <tr>\n",
       "      <th>1</th>\n",
       "      <td>act fire witnesses must be aware of defamation</td>\n",
       "    </tr>\n",
       "    <tr>\n",
       "      <th>2</th>\n",
       "      <td>a g calls for infrastructure protection summit</td>\n",
       "    </tr>\n",
       "    <tr>\n",
       "      <th>3</th>\n",
       "      <td>air nz staff in aust strike for pay rise</td>\n",
       "    </tr>\n",
       "    <tr>\n",
       "      <th>4</th>\n",
       "      <td>air nz strike to affect australian travellers</td>\n",
       "    </tr>\n",
       "  </tbody>\n",
       "</table>\n",
       "</div>"
      ],
      "text/plain": [
       "                                       headline_text\n",
       "0  aba decides against community broadcasting lic...\n",
       "1     act fire witnesses must be aware of defamation\n",
       "2     a g calls for infrastructure protection summit\n",
       "3           air nz staff in aust strike for pay rise\n",
       "4      air nz strike to affect australian travellers"
      ]
     },
     "execution_count": 2,
     "metadata": {},
     "output_type": "execute_result"
    }
   ],
   "source": [
    "data_text = data[:300000][['headline_text']]\n",
    "\n",
    "data_text.head()"
   ]
  },
  {
   "cell_type": "code",
   "execution_count": 6,
   "metadata": {},
   "outputs": [
    {
     "data": {
      "text/html": [
       "<div>\n",
       "<style scoped>\n",
       "    .dataframe tbody tr th:only-of-type {\n",
       "        vertical-align: middle;\n",
       "    }\n",
       "\n",
       "    .dataframe tbody tr th {\n",
       "        vertical-align: top;\n",
       "    }\n",
       "\n",
       "    .dataframe thead th {\n",
       "        text-align: right;\n",
       "    }\n",
       "</style>\n",
       "<table border=\"1\" class=\"dataframe\">\n",
       "  <thead>\n",
       "    <tr style=\"text-align: right;\">\n",
       "      <th></th>\n",
       "      <th>headline_text</th>\n",
       "      <th>index</th>\n",
       "    </tr>\n",
       "  </thead>\n",
       "  <tbody>\n",
       "    <tr>\n",
       "      <th>0</th>\n",
       "      <td>aba decides against community broadcasting lic...</td>\n",
       "      <td>0</td>\n",
       "    </tr>\n",
       "    <tr>\n",
       "      <th>1</th>\n",
       "      <td>act fire witnesses must be aware of defamation</td>\n",
       "      <td>1</td>\n",
       "    </tr>\n",
       "    <tr>\n",
       "      <th>2</th>\n",
       "      <td>a g calls for infrastructure protection summit</td>\n",
       "      <td>2</td>\n",
       "    </tr>\n",
       "    <tr>\n",
       "      <th>3</th>\n",
       "      <td>air nz staff in aust strike for pay rise</td>\n",
       "      <td>3</td>\n",
       "    </tr>\n",
       "    <tr>\n",
       "      <th>4</th>\n",
       "      <td>air nz strike to affect australian travellers</td>\n",
       "      <td>4</td>\n",
       "    </tr>\n",
       "  </tbody>\n",
       "</table>\n",
       "</div>"
      ],
      "text/plain": [
       "                                       headline_text  index\n",
       "0  aba decides against community broadcasting lic...      0\n",
       "1     act fire witnesses must be aware of defamation      1\n",
       "2     a g calls for infrastructure protection summit      2\n",
       "3           air nz staff in aust strike for pay rise      3\n",
       "4      air nz strike to affect australian travellers      4"
      ]
     },
     "execution_count": 6,
     "metadata": {},
     "output_type": "execute_result"
    }
   ],
   "source": [
    "data_text['index'] = data_text.index\n",
    "\n",
    "documents = data_text\n",
    "documents.head()"
   ]
  },
  {
   "cell_type": "code",
   "execution_count": 7,
   "metadata": {},
   "outputs": [
    {
     "data": {
      "text/plain": [
       "300000"
      ]
     },
     "execution_count": 7,
     "metadata": {},
     "output_type": "execute_result"
    }
   ],
   "source": [
    "len(documents)"
   ]
  },
  {
   "cell_type": "markdown",
   "metadata": {},
   "source": [
    "## Data Preprocessing"
   ]
  },
  {
   "cell_type": "code",
   "execution_count": 8,
   "metadata": {},
   "outputs": [
    {
     "name": "stderr",
     "output_type": "stream",
     "text": [
      "H:\\Anaconda3\\envs\\main\\lib\\site-packages\\gensim\\utils.py:1197: UserWarning: detected Windows; aliasing chunkize to chunkize_serial\n",
      "  warnings.warn(\"detected Windows; aliasing chunkize to chunkize_serial\")\n"
     ]
    }
   ],
   "source": [
    "import gensim\n",
    "from gensim.utils import simple_preprocess\n",
    "from nltk.corpus import stopwords\n",
    "from nltk.stem.porter import *\n",
    "import numpy as np"
   ]
  },
  {
   "cell_type": "code",
   "execution_count": 9,
   "metadata": {},
   "outputs": [
    {
     "name": "stderr",
     "output_type": "stream",
     "text": [
      "[nltk_data] Downloading package wordnet to\n",
      "[nltk_data]     C:\\Users\\Patrick\\AppData\\Roaming\\nltk_data...\n",
      "[nltk_data]   Package wordnet is already up-to-date!\n"
     ]
    },
    {
     "data": {
      "text/plain": [
       "True"
      ]
     },
     "execution_count": 9,
     "metadata": {},
     "output_type": "execute_result"
    }
   ],
   "source": [
    "import nltk\n",
    "nltk.download('wordnet')"
   ]
  },
  {
   "cell_type": "code",
   "execution_count": 12,
   "metadata": {},
   "outputs": [],
   "source": [
    "def lemmatize_stemming(text):\n",
    "    return stemmer.stem(WordNetLemmatizer().lemmatize(text, pos='v'))\n",
    "\n",
    "def preprocess(text):\n",
    "    result=[]\n",
    "    for token in gensim.utils.simple_preprocess(text) :\n",
    "\n",
    "        if token not in stopwords.words('english') and len(token) > 3:\n",
    "            \n",
    "            result.append(lemmatize_stemming(token))\n",
    "    return result"
   ]
  },
  {
   "cell_type": "code",
   "execution_count": 13,
   "metadata": {
    "scrolled": true
   },
   "outputs": [
    {
     "name": "stdout",
     "output_type": "stream",
     "text": [
      "Original document: \n",
      "['rain', 'helps', 'dampen', 'bushfires']\n",
      "\n",
      "\n",
      "Tokenized and lemmatized document: \n",
      "['rain', 'help', 'dampen', 'bushfir']\n"
     ]
    }
   ],
   "source": [
    "document_num = 4310\n",
    "doc_sample = documents[documents['index'] == document_num].values[0][0]\n",
    "\n",
    "print(\"Original document: \")\n",
    "words = []\n",
    "for word in doc_sample.split(' '):\n",
    "    words.append(word)\n",
    "print(words)\n",
    "print(\"\\n\\nTokenized and lemmatized document: \")\n",
    "print(preprocess(doc_sample))"
   ]
  },
  {
   "cell_type": "code",
   "execution_count": 20,
   "metadata": {},
   "outputs": [],
   "source": [
    "processed_docs = documents['headline_text'].map(preprocess)"
   ]
  },
  {
   "cell_type": "code",
   "execution_count": 21,
   "metadata": {},
   "outputs": [
    {
     "data": {
      "text/plain": [
       "0                [decid, communiti, broadcast, licenc]\n",
       "1                       [fire, wit, must, awar, defam]\n",
       "2               [call, infrastructur, protect, summit]\n",
       "3                          [staff, aust, strike, rise]\n",
       "4                 [strike, affect, australian, travel]\n",
       "5                   [ambiti, olsson, win, tripl, jump]\n",
       "6               [antic, delight, record, break, barca]\n",
       "7    [aussi, qualifi, stosur, wast, four, memphi, m...\n",
       "8                [aust, address, secur, council, iraq]\n",
       "9                             [australia, lock, timet]\n",
       "Name: headline_text, dtype: object"
      ]
     },
     "execution_count": 21,
     "metadata": {},
     "output_type": "execute_result"
    }
   ],
   "source": [
    "processed_docs[:10]"
   ]
  },
  {
   "cell_type": "markdown",
   "metadata": {},
   "source": [
    "## Get a BOW Dict from data"
   ]
  },
  {
   "cell_type": "code",
   "execution_count": 22,
   "metadata": {},
   "outputs": [
    {
     "name": "stdout",
     "output_type": "stream",
     "text": [
      "0 broadcast\n",
      "1 communiti\n",
      "2 decid\n",
      "3 licenc\n",
      "4 awar\n",
      "5 defam\n",
      "6 fire\n",
      "7 must\n",
      "8 wit\n",
      "9 call\n",
      "10 infrastructur\n"
     ]
    }
   ],
   "source": [
    "dictionary = gensim.corpora.Dictionary(processed_docs)\n",
    "count = 0\n",
    "for k, v in dictionary.items():\n",
    "    print(k, v)\n",
    "    count += 1\n",
    "    if count > 10:\n",
    "        break"
   ]
  },
  {
   "attachments": {},
   "cell_type": "markdown",
   "metadata": {},
   "source": [
    "## filter the dict"
   ]
  },
  {
   "cell_type": "code",
   "execution_count": 24,
   "metadata": {},
   "outputs": [],
   "source": [
    "dictionary.filter_extremes(no_below=15, no_above=0.1, keep_n=100000)"
   ]
  },
  {
   "attachments": {},
   "cell_type": "markdown",
   "metadata": {},
   "source": [
    "## Convert document into BOW format by doc2bow"
   ]
  },
  {
   "cell_type": "code",
   "execution_count": 26,
   "metadata": {},
   "outputs": [],
   "source": [
    "bow_corpus = [dictionary.doc2bow(doc) for doc in processed_docs]"
   ]
  },
  {
   "cell_type": "code",
   "execution_count": 31,
   "metadata": {},
   "outputs": [
    {
     "name": "stdout",
     "output_type": "stream",
     "text": [
      "Word 76 (\"bushfir\") appears 1 time.\n",
      "Word 112 (\"help\") appears 1 time.\n",
      "Word 476 (\"rain\") appears 1 time.\n",
      "Word 3580 (\"dampen\") appears 1 time.\n"
     ]
    }
   ],
   "source": [
    "bow_doc_4310 = bow_corpus[document_num]\n",
    "\n",
    "for i in range(len(bow_doc_4310)):\n",
    "    print(\"Word {} (\\\"{}\\\") appears {} time.\".format(bow_doc_4310[i][0], \n",
    "                                                     dictionary[bow_doc_4310[i][0]], \n",
    "                                                     bow_doc_4310[i][1]))"
   ]
  },
  {
   "cell_type": "markdown",
   "metadata": {},
   "source": [
    "## TF-IDF on our document set \n"
   ]
  },
  {
   "cell_type": "code",
   "execution_count": 37,
   "metadata": {},
   "outputs": [],
   "source": [
    "tfidf = gensim.models.TfidfModel(bow_corpus)"
   ]
  },
  {
   "cell_type": "code",
   "execution_count": 38,
   "metadata": {},
   "outputs": [],
   "source": [
    "corpus_tfidf = tfidf[bow_corpus]"
   ]
  },
  {
   "cell_type": "code",
   "execution_count": 39,
   "metadata": {},
   "outputs": [
    {
     "name": "stdout",
     "output_type": "stream",
     "text": [
      "[(0, 0.5959813347777092), (1, 0.39204529549491984), (2, 0.48531419274988147), (3, 0.5055461098578569)]\n"
     ]
    }
   ],
   "source": [
    "for doc in corpus_tfidf:\n",
    "    print(doc)\n",
    "    break"
   ]
  },
  {
   "cell_type": "markdown",
   "metadata": {},
   "source": [
    "## Running LDA using Bag of Words data"
   ]
  },
  {
   "cell_type": "code",
   "execution_count": 40,
   "metadata": {},
   "outputs": [],
   "source": [
    "lda_model = gensim.models.LdaMulticore(bow_corpus, \n",
    "                                       num_topics=10, \n",
    "                                       id2word = dictionary, \n",
    "                                       passes = 2, \n",
    "                                       workers=2)"
   ]
  },
  {
   "cell_type": "code",
   "execution_count": 41,
   "metadata": {},
   "outputs": [
    {
     "name": "stdout",
     "output_type": "stream",
     "text": [
      "Topic: 0 \n",
      "Words: 0.040*\"warn\" + 0.026*\"polic\" + 0.015*\"victim\" + 0.013*\"crash\" + 0.013*\"stand\" + 0.012*\"investig\" + 0.011*\"hick\" + 0.011*\"threat\" + 0.011*\"shoot\" + 0.010*\"blue\"\n",
      "\n",
      "\n",
      "Topic: 1 \n",
      "Words: 0.044*\"govt\" + 0.038*\"plan\" + 0.034*\"council\" + 0.021*\"urg\" + 0.015*\"back\" + 0.014*\"water\" + 0.014*\"group\" + 0.014*\"health\" + 0.013*\"fund\" + 0.010*\"servic\"\n",
      "\n",
      "\n",
      "Topic: 2 \n",
      "Words: 0.025*\"water\" + 0.021*\"push\" + 0.020*\"reject\" + 0.018*\"power\" + 0.017*\"farmer\" + 0.017*\"drought\" + 0.016*\"price\" + 0.015*\"govt\" + 0.014*\"offer\" + 0.014*\"home\"\n",
      "\n",
      "\n",
      "Topic: 3 \n",
      "Words: 0.038*\"kill\" + 0.026*\"attack\" + 0.025*\"crash\" + 0.020*\"road\" + 0.019*\"chang\" + 0.017*\"die\" + 0.017*\"driver\" + 0.014*\"communiti\" + 0.013*\"polic\" + 0.013*\"dead\"\n",
      "\n",
      "\n",
      "Topic: 4 \n",
      "Words: 0.032*\"polic\" + 0.030*\"find\" + 0.022*\"miss\" + 0.022*\"fire\" + 0.014*\"probe\" + 0.014*\"search\" + 0.013*\"blaze\" + 0.013*\"school\" + 0.012*\"forc\" + 0.011*\"call\"\n",
      "\n",
      "\n",
      "Topic: 5 \n",
      "Words: 0.036*\"charg\" + 0.030*\"face\" + 0.028*\"court\" + 0.022*\"polic\" + 0.022*\"jail\" + 0.021*\"death\" + 0.020*\"accus\" + 0.019*\"sydney\" + 0.019*\"closer\" + 0.018*\"murder\"\n",
      "\n",
      "\n",
      "Topic: 6 \n",
      "Words: 0.022*\"mine\" + 0.021*\"minist\" + 0.017*\"record\" + 0.015*\"market\" + 0.014*\"world\" + 0.012*\"former\" + 0.011*\"year\" + 0.010*\"liber\" + 0.010*\"need\" + 0.010*\"australia\"\n",
      "\n",
      "\n",
      "Topic: 7 \n",
      "Words: 0.020*\"make\" + 0.019*\"elect\" + 0.014*\"decis\" + 0.014*\"inquiri\" + 0.013*\"final\" + 0.012*\"win\" + 0.012*\"case\" + 0.012*\"hear\" + 0.011*\"keep\" + 0.010*\"author\"\n",
      "\n",
      "\n",
      "Topic: 8 \n",
      "Words: 0.020*\"aust\" + 0.018*\"iraq\" + 0.016*\"labor\" + 0.015*\"talk\" + 0.014*\"howard\" + 0.013*\"australian\" + 0.012*\"leader\" + 0.012*\"open\" + 0.012*\"say\" + 0.010*\"timor\"\n",
      "\n",
      "\n",
      "Topic: 9 \n",
      "Words: 0.020*\"lead\" + 0.016*\"test\" + 0.013*\"time\" + 0.011*\"say\" + 0.011*\"take\" + 0.011*\"work\" + 0.010*\"flood\" + 0.010*\"wont\" + 0.010*\"lose\" + 0.010*\"fail\"\n",
      "\n",
      "\n"
     ]
    }
   ],
   "source": [
    "for idx, topic in lda_model.print_topics():\n",
    "    print(\"Topic: {} \\nWords: {}\".format(idx, topic))\n",
    "    print(\"\\n\")"
   ]
  },
  {
   "cell_type": "markdown",
   "metadata": {},
   "source": [
    "## Topic coherence"
   ]
  },
  {
   "cell_type": "code",
   "execution_count": 44,
   "metadata": {},
   "outputs": [
    {
     "name": "stdout",
     "output_type": "stream",
     "text": [
      "\n",
      "Coherence Score:  0.24392424055124354\n"
     ]
    }
   ],
   "source": [
    "from gensim.models import CoherenceModel\n",
    "\n",
    "coherence_model_lda = CoherenceModel(model=lda_model, texts=processed_docs, dictionary=dictionary, coherence='c_v')\n",
    "coherence_lda = coherence_model_lda.get_coherence()\n",
    "print('\\nCoherence Score: ', coherence_lda)"
   ]
  },
  {
   "cell_type": "code",
   "execution_count": 65,
   "metadata": {},
   "outputs": [
    {
     "name": "stdout",
     "output_type": "stream",
     "text": [
      "\n",
      "Coherence Score:  -6.5238873274397875\n"
     ]
    }
   ],
   "source": [
    "from gensim.models import CoherenceModel\n",
    "\n",
    "coherence_model_lda = CoherenceModel(model=lda_model, texts=processed_docs, dictionary=dictionary, coherence=\"u_mass\")\n",
    "coherence_lda = coherence_model_lda.get_coherence()\n",
    "print('\\nCoherence Score: ', coherence_lda)"
   ]
  },
  {
   "cell_type": "markdown",
   "metadata": {},
   "source": [
    "## find the optimal number of topics"
   ]
  },
  {
   "cell_type": "code",
   "execution_count": 70,
   "metadata": {},
   "outputs": [],
   "source": [
    "def compute_coherence_values(dictionary, corpus, texts, limit, start=2, step=3):\n",
    "\n",
    "    coherence_values = []\n",
    "    model_list = []\n",
    "    for num_topics in range(start, limit, step):\n",
    "        model=gensim.models.LdaMulticore(corpus=corpus, id2word=dictionary, num_topics=num_topics)\n",
    "        model_list.append(model)\n",
    "        coherencemodel = CoherenceModel(model=model, texts=texts, dictionary=dictionary, coherence='c_v')\n",
    "        coherence_values.append(coherencemodel.get_coherence())\n",
    "\n",
    "    return model_list, coherence_values"
   ]
  },
  {
   "cell_type": "code",
   "execution_count": 71,
   "metadata": {},
   "outputs": [
    {
     "data": {
      "text/plain": [
       "<Figure size 640x480 with 1 Axes>"
      ]
     },
     "metadata": {},
     "output_type": "display_data"
    }
   ],
   "source": [
    "model_list, coherence_values = compute_coherence_values(dictionary=dictionary, corpus=bow_corpus, texts=processed_docs, start=2, limit=40, step=6)"
   ]
  },
  {
   "cell_type": "code",
   "execution_count": 72,
   "metadata": {},
   "outputs": [
    {
     "data": {
      "image/png": "[encoded data removed]",
      "text/plain": [
       "<Figure size 432x288 with 1 Axes>"
      ]
     },
     "metadata": {
      "needs_background": "light"
     },
     "output_type": "display_data"
    }
   ],
   "source": [
    "import matplotlib.pyplot as plt\n",
    "limit=40; start=2; step=6;\n",
    "x = range(start, limit, step)\n",
    "plt.plot(x, coherence_values)\n",
    "plt.xlabel(\"Num Topics\")\n",
    "plt.ylabel(\"Coherence score\")\n",
    "plt.legend((\"coherence_values\"), loc='best')\n",
    "plt.show()\n",
    "#seem "
   ]
  },
  {
   "cell_type": "markdown",
   "metadata": {},
   "source": [
    "## Running LDA using TF-IDF ##"
   ]
  },
  {
   "cell_type": "code",
   "execution_count": 45,
   "metadata": {},
   "outputs": [],
   "source": [
    "lda_model_tfidf = gensim.models.LdaMulticore(corpus_tfidf, \n",
    "                                             num_topics=10, \n",
    "                                             id2word = dictionary, \n",
    "                                             passes = 2, \n",
    "                                             workers=4)"
   ]
  },
  {
   "cell_type": "code",
   "execution_count": 46,
   "metadata": {},
   "outputs": [
    {
     "name": "stdout",
     "output_type": "stream",
     "text": [
      "Topic: 0 Word: 0.007*\"titl\" + 0.007*\"break\" + 0.006*\"hill\" + 0.006*\"troop\" + 0.005*\"world\" + 0.005*\"firefight\" + 0.005*\"gold\" + 0.004*\"aussi\" + 0.004*\"coast\" + 0.004*\"final\"\n",
      "\n",
      "\n",
      "Topic: 1 Word: 0.007*\"rudd\" + 0.006*\"polic\" + 0.004*\"chase\" + 0.004*\"ship\" + 0.004*\"lake\" + 0.004*\"traffic\" + 0.004*\"afghanistan\" + 0.004*\"flood\" + 0.004*\"council\" + 0.004*\"spot\"\n",
      "\n",
      "\n",
      "Topic: 2 Word: 0.018*\"polic\" + 0.016*\"kill\" + 0.014*\"charg\" + 0.012*\"murder\" + 0.012*\"miss\" + 0.010*\"search\" + 0.010*\"death\" + 0.010*\"find\" + 0.009*\"court\" + 0.009*\"attack\"\n",
      "\n",
      "\n",
      "Topic: 3 Word: 0.010*\"rise\" + 0.008*\"rate\" + 0.007*\"farm\" + 0.007*\"wind\" + 0.006*\"water\" + 0.005*\"govt\" + 0.005*\"plan\" + 0.005*\"interest\" + 0.005*\"council\" + 0.004*\"rat\"\n",
      "\n",
      "\n",
      "Topic: 4 Word: 0.009*\"timor\" + 0.006*\"east\" + 0.006*\"iraq\" + 0.005*\"open\" + 0.005*\"talk\" + 0.005*\"govt\" + 0.005*\"govern\" + 0.004*\"say\" + 0.004*\"south\" + 0.004*\"iemma\"\n",
      "\n",
      "\n",
      "Topic: 5 Word: 0.010*\"health\" + 0.009*\"govt\" + 0.007*\"urg\" + 0.007*\"council\" + 0.007*\"plan\" + 0.006*\"fund\" + 0.006*\"liber\" + 0.006*\"call\" + 0.006*\"care\" + 0.005*\"approv\"\n",
      "\n",
      "\n",
      "Topic: 6 Word: 0.025*\"closer\" + 0.006*\"govt\" + 0.006*\"servic\" + 0.006*\"plan\" + 0.006*\"doctor\" + 0.006*\"boost\" + 0.005*\"airport\" + 0.005*\"region\" + 0.005*\"emerg\" + 0.005*\"takeov\"\n",
      "\n",
      "\n",
      "Topic: 7 Word: 0.022*\"crash\" + 0.010*\"die\" + 0.010*\"fire\" + 0.009*\"polic\" + 0.009*\"blaze\" + 0.009*\"fatal\" + 0.008*\"accid\" + 0.007*\"highway\" + 0.006*\"road\" + 0.006*\"driver\"\n",
      "\n",
      "\n",
      "Topic: 8 Word: 0.007*\"tsunami\" + 0.005*\"pipelin\" + 0.005*\"doubt\" + 0.005*\"sailor\" + 0.004*\"swan\" + 0.004*\"injuri\" + 0.004*\"court\" + 0.004*\"eagl\" + 0.004*\"heritag\" + 0.004*\"wallabi\"\n",
      "\n",
      "\n",
      "Topic: 9 Word: 0.009*\"water\" + 0.009*\"govt\" + 0.008*\"nuclear\" + 0.006*\"plan\" + 0.006*\"hick\" + 0.005*\"urg\" + 0.005*\"labor\" + 0.005*\"warn\" + 0.005*\"law\" + 0.005*\"costello\"\n",
      "\n",
      "\n"
     ]
    }
   ],
   "source": [
    "for idx, topic in lda_model_tfidf.print_topics(-1):\n",
    "    print(\"Topic: {} Word: {}\".format(idx, topic))\n",
    "    print(\"\\n\")"
   ]
  },
  {
   "cell_type": "code",
   "execution_count": 48,
   "metadata": {},
   "outputs": [
    {
     "name": "stdout",
     "output_type": "stream",
     "text": [
      "\n",
      "Coherence Score:  0.33426617536044023\n"
     ]
    }
   ],
   "source": [
    "from gensim.models import CoherenceModel\n",
    "\n",
    "coherence_model_lda_idf = CoherenceModel(model=lda_model_tfidf, texts=processed_docs, dictionary=dictionary, coherence='c_v')\n",
    "coherence_model_lda_idf = coherence_model_lda_idf.get_coherence()\n",
    "print('\\nCoherence Score: ', coherence_model_lda_idf)"
   ]
  },
  {
   "cell_type": "markdown",
   "metadata": {},
   "source": [
    "## classifying sample document using LDA Bag of Words model"
   ]
  },
  {
   "cell_type": "code",
   "execution_count": 49,
   "metadata": {},
   "outputs": [
    {
     "data": {
      "text/plain": [
       "['rain', 'help', 'dampen', 'bushfir']"
      ]
     },
     "execution_count": 49,
     "metadata": {},
     "output_type": "execute_result"
    }
   ],
   "source": [
    "#original Text of sample document 4310\n",
    "processed_docs[document_num]"
   ]
  },
  {
   "cell_type": "code",
   "execution_count": 50,
   "metadata": {
    "scrolled": true
   },
   "outputs": [
    {
     "name": "stdout",
     "output_type": "stream",
     "text": [
      "\n",
      "Score: 0.619993269443512\t Topic: 0.025*\"water\" + 0.021*\"push\" + 0.020*\"reject\" + 0.018*\"power\" + 0.017*\"farmer\"\n",
      "\n",
      "Score: 0.21999461948871613\t Topic: 0.020*\"make\" + 0.019*\"elect\" + 0.014*\"decis\" + 0.014*\"inquiri\" + 0.013*\"final\"\n",
      "\n",
      "Score: 0.02000802382826805\t Topic: 0.032*\"polic\" + 0.030*\"find\" + 0.022*\"miss\" + 0.022*\"fire\" + 0.014*\"probe\"\n",
      "\n",
      "Score: 0.020001571625471115\t Topic: 0.040*\"warn\" + 0.026*\"polic\" + 0.015*\"victim\" + 0.013*\"crash\" + 0.013*\"stand\"\n",
      "\n",
      "Score: 0.020001430064439774\t Topic: 0.044*\"govt\" + 0.038*\"plan\" + 0.034*\"council\" + 0.021*\"urg\" + 0.015*\"back\"\n",
      "\n",
      "Score: 0.020000431686639786\t Topic: 0.022*\"mine\" + 0.021*\"minist\" + 0.017*\"record\" + 0.015*\"market\" + 0.014*\"world\"\n",
      "\n",
      "Score: 0.020000357180833817\t Topic: 0.020*\"aust\" + 0.018*\"iraq\" + 0.016*\"labor\" + 0.015*\"talk\" + 0.014*\"howard\"\n",
      "\n",
      "Score: 0.020000185817480087\t Topic: 0.020*\"lead\" + 0.016*\"test\" + 0.013*\"time\" + 0.011*\"say\" + 0.011*\"take\"\n",
      "\n",
      "Score: 0.02000010386109352\t Topic: 0.038*\"kill\" + 0.026*\"attack\" + 0.025*\"crash\" + 0.020*\"road\" + 0.019*\"chang\"\n",
      "\n",
      "Score: 0.019999999552965164\t Topic: 0.036*\"charg\" + 0.030*\"face\" + 0.028*\"court\" + 0.022*\"polic\" + 0.022*\"jail\"\n"
     ]
    }
   ],
   "source": [
    "for index, score in sorted(lda_model[bow_corpus[document_num]], key=lambda tup: tup[1], reverse=True):\n",
    "    print(\"\\nScore: {}\\t Topic: {}\".format(score, lda_model.print_topic(index, 5)))"
   ]
  },
  {
   "cell_type": "code",
   "execution_count": 52,
   "metadata": {},
   "outputs": [
    {
     "data": {
      "text/plain": [
       "[(0, 0.020001575),\n",
       " (1, 0.020001432),\n",
       " (2, 0.61999243),\n",
       " (3, 0.020000106),\n",
       " (4, 0.020010116),\n",
       " (5, 0.020000001),\n",
       " (6, 0.020000434),\n",
       " (7, 0.21999337),\n",
       " (8, 0.020000359),\n",
       " (9, 0.020000188)]"
      ]
     },
     "execution_count": 52,
     "metadata": {},
     "output_type": "execute_result"
    }
   ],
   "source": [
    "lda_model[bow_corpus[document_num]]"
   ]
  },
  {
   "cell_type": "code",
   "execution_count": 53,
   "metadata": {},
   "outputs": [
    {
     "data": {
      "text/plain": [
       "[(2, 0.61999303),\n",
       " (7, 0.2199943),\n",
       " (4, 0.020008579),\n",
       " (0, 0.020001572),\n",
       " (1, 0.02000143),\n",
       " (6, 0.020000432),\n",
       " (8, 0.020000357),\n",
       " (9, 0.020000186),\n",
       " (3, 0.020000104),\n",
       " (5, 0.02)]"
      ]
     },
     "execution_count": 53,
     "metadata": {},
     "output_type": "execute_result"
    }
   ],
   "source": [
    "sorted(lda_model[bow_corpus[document_num]], key=lambda tup: tup[1], reverse=True)"
   ]
  },
  {
   "cell_type": "code",
   "execution_count": 54,
   "metadata": {},
   "outputs": [
    {
     "data": {
      "text/plain": [
       "'0.036*\"charg\" + 0.030*\"face\" + 0.028*\"court\" + 0.022*\"polic\" + 0.022*\"jail\" + 0.021*\"death\" + 0.020*\"accus\" + 0.019*\"sydney\" + 0.019*\"closer\" + 0.018*\"murder\"'"
      ]
     },
     "execution_count": 54,
     "metadata": {},
     "output_type": "execute_result"
    }
   ],
   "source": [
    "lda_model.print_topic(index, 10)"
   ]
  },
  {
   "cell_type": "markdown",
   "metadata": {},
   "source": [
    "## classifying sample document using LDA TF-IDF model##"
   ]
  },
  {
   "cell_type": "code",
   "execution_count": 95,
   "metadata": {},
   "outputs": [
    {
     "name": "stdout",
     "output_type": "stream",
     "text": [
      "\n",
      "Score: 0.8199732899665833\t Topic: 0.022*\"crash\" + 0.010*\"die\" + 0.010*\"fire\" + 0.009*\"polic\" + 0.009*\"blaze\"\n",
      "\n",
      "Score: 0.02000579424202442\t Topic: 0.009*\"water\" + 0.009*\"govt\" + 0.008*\"nuclear\" + 0.006*\"plan\" + 0.006*\"hick\"\n",
      "\n",
      "Score: 0.02000509388744831\t Topic: 0.010*\"rise\" + 0.008*\"rate\" + 0.007*\"farm\" + 0.007*\"wind\" + 0.006*\"water\"\n",
      "\n",
      "Score: 0.02000296860933304\t Topic: 0.010*\"health\" + 0.009*\"govt\" + 0.007*\"urg\" + 0.007*\"council\" + 0.007*\"plan\"\n",
      "\n",
      "Score: 0.020002806559205055\t Topic: 0.007*\"rudd\" + 0.006*\"polic\" + 0.004*\"chase\" + 0.004*\"ship\" + 0.004*\"lake\"\n",
      "\n",
      "Score: 0.02000265382230282\t Topic: 0.025*\"closer\" + 0.006*\"govt\" + 0.006*\"servic\" + 0.006*\"plan\" + 0.006*\"doctor\"\n",
      "\n",
      "Score: 0.02000240422785282\t Topic: 0.018*\"polic\" + 0.016*\"kill\" + 0.014*\"charg\" + 0.012*\"murder\" + 0.012*\"miss\"\n",
      "\n",
      "Score: 0.020002134144306183\t Topic: 0.007*\"tsunami\" + 0.005*\"pipelin\" + 0.005*\"doubt\" + 0.005*\"sailor\" + 0.004*\"swan\"\n",
      "\n",
      "Score: 0.02000153250992298\t Topic: 0.009*\"timor\" + 0.006*\"east\" + 0.006*\"iraq\" + 0.005*\"open\" + 0.005*\"talk\"\n",
      "\n",
      "Score: 0.020001279190182686\t Topic: 0.007*\"titl\" + 0.007*\"break\" + 0.006*\"hill\" + 0.006*\"troop\" + 0.005*\"world\"\n"
     ]
    }
   ],
   "source": [
    "for index, score in sorted(lda_model_tfidf[bow_corpus[document_num]], key=lambda tup: tup[1], reverse=True):\n",
    "    print(\"\\nScore: {}\\t Topic: {}\".format(score, lda_model_tfidf.print_topic(index, 5)))"
   ]
  },
  {
   "cell_type": "markdown",
   "metadata": {},
   "source": [
    "## Testing model on unseen document ##"
   ]
  },
  {
   "cell_type": "code",
   "execution_count": 90,
   "metadata": {},
   "outputs": [
    {
     "name": "stdout",
     "output_type": "stream",
     "text": [
      "Score: 0.3666805624961853\t Topic: 0.044*\"govt\" + 0.038*\"plan\" + 0.034*\"council\" + 0.021*\"urg\" + 0.015*\"back\"\n",
      "Score: 0.36664098501205444\t Topic: 0.040*\"warn\" + 0.026*\"polic\" + 0.015*\"victim\" + 0.013*\"crash\" + 0.013*\"stand\"\n",
      "Score: 0.03333942964673042\t Topic: 0.020*\"make\" + 0.019*\"elect\" + 0.014*\"decis\" + 0.014*\"inquiri\" + 0.013*\"final\"\n",
      "Score: 0.03333901986479759\t Topic: 0.022*\"mine\" + 0.021*\"minist\" + 0.017*\"record\" + 0.015*\"market\" + 0.014*\"world\"\n",
      "Score: 0.03333333134651184\t Topic: 0.020*\"aust\" + 0.018*\"iraq\" + 0.016*\"labor\" + 0.015*\"talk\" + 0.014*\"howard\"\n",
      "Score: 0.03333333134651184\t Topic: 0.020*\"lead\" + 0.016*\"test\" + 0.013*\"time\" + 0.011*\"say\" + 0.011*\"take\"\n",
      "Score: 0.03333332762122154\t Topic: 0.025*\"water\" + 0.021*\"push\" + 0.020*\"reject\" + 0.018*\"power\" + 0.017*\"farmer\"\n",
      "Score: 0.03333332762122154\t Topic: 0.038*\"kill\" + 0.026*\"attack\" + 0.025*\"crash\" + 0.020*\"road\" + 0.019*\"chang\"\n",
      "Score: 0.03333332762122154\t Topic: 0.032*\"polic\" + 0.030*\"find\" + 0.022*\"miss\" + 0.022*\"fire\" + 0.014*\"probe\"\n",
      "Score: 0.03333332762122154\t Topic: 0.036*\"charg\" + 0.030*\"face\" + 0.028*\"court\" + 0.022*\"polic\" + 0.022*\"jail\"\n"
     ]
    }
   ],
   "source": [
    "unseen_document = \"My name is Patrick.\"\n",
    "\n",
    "bow_vector = dictionary.doc2bow(preprocess(unseen_document))\n",
    "\n",
    "for index, score in sorted(lda_model[bow_vector], key=lambda tup: tup[1], reverse=True):\n",
    "    print(\"Score: {}\\t Topic: {}\".format(score, lda_model.print_topic(index, 5)))"
   ]
  }
 ],
 "metadata": {
  "kernelspec": {
   "display_name": "Python 3",
   "language": "python",
   "name": "python3"
  },
  "language_info": {
   "codemirror_mode": {
    "name": "ipython",
    "version": 3
   },
   "file_extension": ".py",
   "mimetype": "text/x-python",
   "name": "python",
   "nbconvert_exporter": "python",
   "pygments_lexer": "ipython3",
   "version": "3.6.8"
  }
 },
 "nbformat": 4,
 "nbformat_minor": 1
}
